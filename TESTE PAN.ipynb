{
 "cells": [
  {
   "cell_type": "code",
   "execution_count": 4,
   "id": "374bf4ea",
   "metadata": {},
   "outputs": [
    {
     "name": "stdout",
     "output_type": "stream",
     "text": [
      "<Response [401]>\n",
      "{'codigo': 'GTW-013', 'mensagem': 'Token inválido', 'origem': 'gateway', 'detalhes': []}\n"
     ]
    }
   ],
   "source": [
    "import requests\n",
    "from requests.structures import CaseInsensitiveDict\n",
    "headers = CaseInsensitiveDict()\n",
    "headers[\"User-Agent\"] = \"Mozilla/5.0 (X11; Linux x86_64) AppleWebKit/537.36 (KHTML, like Gecko) Chrome/50.0.2661.75 Safari/537.36\"\n",
    "headers[\"Accept\"] = \"application/json\"\n",
    "headers[\"Authorization\"] = 'Basic bDdlNTJkOGYzOWUyMDI0NzkzOTkxZWUxYWNiZDZiOGMzMTo1MTQ1ZTM5MTRjOTU0ZWVlOWIwOThlNmNhY2FhOTQ4OA=='\n",
    "headers[\"Apikey\"] = 'l7e52d8f39e2024793991ee1acbd6b8c31'\n",
    "\n",
    "\n",
    "\n",
    "url = 'https://api.bancopan.com.br/openapi/consignado/v0/tokens'\n",
    "#url = 'https://sandbox.bancopan.com.br/consignado/v0/tokens'\n",
    "params = {\n",
    "\n",
    "  \"username\": \"11093532785_007504\",\n",
    "  \"password\": \"Concred2023*\",    \n",
    "  \"grant_type\": \"client_credentials+password\"\n",
    "\n",
    "}\n",
    "\n",
    "response = requests.post(url=url, headers=headers, json=params)\n",
    "print(response)\n",
    "response_data = response.json()\n",
    "print(response_data)"
   ]
  },
  {
   "cell_type": "code",
   "execution_count": null,
   "id": "332f5aa9",
   "metadata": {},
   "outputs": [],
   "source": []
  },
  {
   "cell_type": "code",
   "execution_count": 8,
   "id": "fc2e9b8c",
   "metadata": {},
   "outputs": [
    {
     "name": "stdout",
     "output_type": "stream",
     "text": [
      "<Response [200]>\n",
      "{'token': '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', 'expires_in': '2023-02-28T15:02:36.000Z'}\n"
     ]
    }
   ],
   "source": [
    "import requests\n",
    "from requests.structures import CaseInsensitiveDict\n",
    "headers = CaseInsensitiveDict()\n",
    "headers[\"User-Agent\"] = \"Mozilla/5.0 (X11; Linux x86_64) AppleWebKit/537.36 (KHTML, like Gecko) Chrome/50.0.2661.75 Safari/537.36\"\n",
    "headers[\"Accept\"] = \"application/json\"\n",
    "headers[\"Authorization\"] = 'Basic bDdlNTJkOGYzOWUyMDI0NzkzOTkxZWUxYWNiZDZiOGMzMTo1MTQ1ZTM5MTRjOTU0ZWVlOWIwOThlNmNhY2FhOTQ4OA=='\n",
    "headers[\"Apikey\"] = 'l7e52d8f39e2024793991ee1acbd6b8c31'\n",
    "\n",
    "\n",
    "\n",
    "#url = 'https://api.bancopan.com.br/openapi/consignado/v0/tokens'\n",
    "url = 'https://sandbox.bancopan.com.br/consignado/v0/tokens'\n",
    "params = {\n",
    "  \"username\": \"00000000001_000001\",\n",
    "  \"password\": \"test@123\",\n",
    "  \"grant_type\": \"client_credentials+password\"\n",
    "}\n",
    "\n",
    "response = requests.post(url=url, headers=headers, json=params)\n",
    "print(response)\n",
    "response_data = response.json()\n",
    "print(response_data)"
   ]
  },
  {
   "cell_type": "code",
   "execution_count": 17,
   "id": "6d57370d",
   "metadata": {},
   "outputs": [
    {
     "name": "stdout",
     "output_type": "stream",
     "text": [
      "<Response [403]>\n"
     ]
    },
    {
     "ename": "JSONDecodeError",
     "evalue": "Expecting value: line 1 column 1 (char 0)",
     "output_type": "error",
     "traceback": [
      "\u001b[0;31m---------------------------------------------------------------------------\u001b[0m",
      "\u001b[0;31mJSONDecodeError\u001b[0m                           Traceback (most recent call last)",
      "\u001b[0;32m~/opt/anaconda3/lib/python3.9/site-packages/requests/models.py\u001b[0m in \u001b[0;36mjson\u001b[0;34m(self, **kwargs)\u001b[0m\n\u001b[1;32m    970\u001b[0m         \u001b[0;32mtry\u001b[0m\u001b[0;34m:\u001b[0m\u001b[0;34m\u001b[0m\u001b[0;34m\u001b[0m\u001b[0m\n\u001b[0;32m--> 971\u001b[0;31m             \u001b[0;32mreturn\u001b[0m \u001b[0mcomplexjson\u001b[0m\u001b[0;34m.\u001b[0m\u001b[0mloads\u001b[0m\u001b[0;34m(\u001b[0m\u001b[0mself\u001b[0m\u001b[0;34m.\u001b[0m\u001b[0mtext\u001b[0m\u001b[0;34m,\u001b[0m \u001b[0;34m**\u001b[0m\u001b[0mkwargs\u001b[0m\u001b[0;34m)\u001b[0m\u001b[0;34m\u001b[0m\u001b[0;34m\u001b[0m\u001b[0m\n\u001b[0m\u001b[1;32m    972\u001b[0m         \u001b[0;32mexcept\u001b[0m \u001b[0mJSONDecodeError\u001b[0m \u001b[0;32mas\u001b[0m \u001b[0me\u001b[0m\u001b[0;34m:\u001b[0m\u001b[0;34m\u001b[0m\u001b[0;34m\u001b[0m\u001b[0m\n",
      "\u001b[0;32m~/opt/anaconda3/lib/python3.9/json/__init__.py\u001b[0m in \u001b[0;36mloads\u001b[0;34m(s, cls, object_hook, parse_float, parse_int, parse_constant, object_pairs_hook, **kw)\u001b[0m\n\u001b[1;32m    345\u001b[0m             parse_constant is None and object_pairs_hook is None and not kw):\n\u001b[0;32m--> 346\u001b[0;31m         \u001b[0;32mreturn\u001b[0m \u001b[0m_default_decoder\u001b[0m\u001b[0;34m.\u001b[0m\u001b[0mdecode\u001b[0m\u001b[0;34m(\u001b[0m\u001b[0ms\u001b[0m\u001b[0;34m)\u001b[0m\u001b[0;34m\u001b[0m\u001b[0;34m\u001b[0m\u001b[0m\n\u001b[0m\u001b[1;32m    347\u001b[0m     \u001b[0;32mif\u001b[0m \u001b[0mcls\u001b[0m \u001b[0;32mis\u001b[0m \u001b[0;32mNone\u001b[0m\u001b[0;34m:\u001b[0m\u001b[0;34m\u001b[0m\u001b[0;34m\u001b[0m\u001b[0m\n",
      "\u001b[0;32m~/opt/anaconda3/lib/python3.9/json/decoder.py\u001b[0m in \u001b[0;36mdecode\u001b[0;34m(self, s, _w)\u001b[0m\n\u001b[1;32m    336\u001b[0m         \"\"\"\n\u001b[0;32m--> 337\u001b[0;31m         \u001b[0mobj\u001b[0m\u001b[0;34m,\u001b[0m \u001b[0mend\u001b[0m \u001b[0;34m=\u001b[0m \u001b[0mself\u001b[0m\u001b[0;34m.\u001b[0m\u001b[0mraw_decode\u001b[0m\u001b[0;34m(\u001b[0m\u001b[0ms\u001b[0m\u001b[0;34m,\u001b[0m \u001b[0midx\u001b[0m\u001b[0;34m=\u001b[0m\u001b[0m_w\u001b[0m\u001b[0;34m(\u001b[0m\u001b[0ms\u001b[0m\u001b[0;34m,\u001b[0m \u001b[0;36m0\u001b[0m\u001b[0;34m)\u001b[0m\u001b[0;34m.\u001b[0m\u001b[0mend\u001b[0m\u001b[0;34m(\u001b[0m\u001b[0;34m)\u001b[0m\u001b[0;34m)\u001b[0m\u001b[0;34m\u001b[0m\u001b[0;34m\u001b[0m\u001b[0m\n\u001b[0m\u001b[1;32m    338\u001b[0m         \u001b[0mend\u001b[0m \u001b[0;34m=\u001b[0m \u001b[0m_w\u001b[0m\u001b[0;34m(\u001b[0m\u001b[0ms\u001b[0m\u001b[0;34m,\u001b[0m \u001b[0mend\u001b[0m\u001b[0;34m)\u001b[0m\u001b[0;34m.\u001b[0m\u001b[0mend\u001b[0m\u001b[0;34m(\u001b[0m\u001b[0;34m)\u001b[0m\u001b[0;34m\u001b[0m\u001b[0;34m\u001b[0m\u001b[0m\n",
      "\u001b[0;32m~/opt/anaconda3/lib/python3.9/json/decoder.py\u001b[0m in \u001b[0;36mraw_decode\u001b[0;34m(self, s, idx)\u001b[0m\n\u001b[1;32m    354\u001b[0m         \u001b[0;32mexcept\u001b[0m \u001b[0mStopIteration\u001b[0m \u001b[0;32mas\u001b[0m \u001b[0merr\u001b[0m\u001b[0;34m:\u001b[0m\u001b[0;34m\u001b[0m\u001b[0;34m\u001b[0m\u001b[0m\n\u001b[0;32m--> 355\u001b[0;31m             \u001b[0;32mraise\u001b[0m \u001b[0mJSONDecodeError\u001b[0m\u001b[0;34m(\u001b[0m\u001b[0;34m\"Expecting value\"\u001b[0m\u001b[0;34m,\u001b[0m \u001b[0ms\u001b[0m\u001b[0;34m,\u001b[0m \u001b[0merr\u001b[0m\u001b[0;34m.\u001b[0m\u001b[0mvalue\u001b[0m\u001b[0;34m)\u001b[0m \u001b[0;32mfrom\u001b[0m \u001b[0;32mNone\u001b[0m\u001b[0;34m\u001b[0m\u001b[0;34m\u001b[0m\u001b[0m\n\u001b[0m\u001b[1;32m    356\u001b[0m         \u001b[0;32mreturn\u001b[0m \u001b[0mobj\u001b[0m\u001b[0;34m,\u001b[0m \u001b[0mend\u001b[0m\u001b[0;34m\u001b[0m\u001b[0;34m\u001b[0m\u001b[0m\n",
      "\u001b[0;31mJSONDecodeError\u001b[0m: Expecting value: line 1 column 1 (char 0)",
      "\nDuring handling of the above exception, another exception occurred:\n",
      "\u001b[0;31mJSONDecodeError\u001b[0m                           Traceback (most recent call last)",
      "\u001b[0;32m/var/folders/99/008h952902zbvmm2qzk6n37w0000gn/T/ipykernel_1630/519723513.py\u001b[0m in \u001b[0;36m<module>\u001b[0;34m\u001b[0m\n\u001b[1;32m     21\u001b[0m \u001b[0mresponse\u001b[0m \u001b[0;34m=\u001b[0m \u001b[0mrequests\u001b[0m\u001b[0;34m.\u001b[0m\u001b[0mpost\u001b[0m\u001b[0;34m(\u001b[0m\u001b[0murl\u001b[0m\u001b[0;34m=\u001b[0m\u001b[0murl\u001b[0m\u001b[0;34m,\u001b[0m \u001b[0mheaders\u001b[0m\u001b[0;34m=\u001b[0m\u001b[0mheaders\u001b[0m\u001b[0;34m,\u001b[0m \u001b[0mjson\u001b[0m\u001b[0;34m=\u001b[0m\u001b[0mparams\u001b[0m\u001b[0;34m)\u001b[0m\u001b[0;34m\u001b[0m\u001b[0;34m\u001b[0m\u001b[0m\n\u001b[1;32m     22\u001b[0m \u001b[0mprint\u001b[0m\u001b[0;34m(\u001b[0m\u001b[0mresponse\u001b[0m\u001b[0;34m)\u001b[0m\u001b[0;34m\u001b[0m\u001b[0;34m\u001b[0m\u001b[0m\n\u001b[0;32m---> 23\u001b[0;31m \u001b[0mresponse_data\u001b[0m \u001b[0;34m=\u001b[0m \u001b[0mresponse\u001b[0m\u001b[0;34m.\u001b[0m\u001b[0mjson\u001b[0m\u001b[0;34m(\u001b[0m\u001b[0;34m)\u001b[0m\u001b[0;34m\u001b[0m\u001b[0;34m\u001b[0m\u001b[0m\n\u001b[0m\u001b[1;32m     24\u001b[0m \u001b[0mprint\u001b[0m\u001b[0;34m(\u001b[0m\u001b[0mresponse_data\u001b[0m\u001b[0;34m)\u001b[0m\u001b[0;34m\u001b[0m\u001b[0;34m\u001b[0m\u001b[0m\n",
      "\u001b[0;32m~/opt/anaconda3/lib/python3.9/site-packages/requests/models.py\u001b[0m in \u001b[0;36mjson\u001b[0;34m(self, **kwargs)\u001b[0m\n\u001b[1;32m    973\u001b[0m             \u001b[0;31m# Catch JSON-related errors and raise as requests.JSONDecodeError\u001b[0m\u001b[0;34m\u001b[0m\u001b[0;34m\u001b[0m\u001b[0m\n\u001b[1;32m    974\u001b[0m             \u001b[0;31m# This aliases json.JSONDecodeError and simplejson.JSONDecodeError\u001b[0m\u001b[0;34m\u001b[0m\u001b[0;34m\u001b[0m\u001b[0m\n\u001b[0;32m--> 975\u001b[0;31m             \u001b[0;32mraise\u001b[0m \u001b[0mRequestsJSONDecodeError\u001b[0m\u001b[0;34m(\u001b[0m\u001b[0me\u001b[0m\u001b[0;34m.\u001b[0m\u001b[0mmsg\u001b[0m\u001b[0;34m,\u001b[0m \u001b[0me\u001b[0m\u001b[0;34m.\u001b[0m\u001b[0mdoc\u001b[0m\u001b[0;34m,\u001b[0m \u001b[0me\u001b[0m\u001b[0;34m.\u001b[0m\u001b[0mpos\u001b[0m\u001b[0;34m)\u001b[0m\u001b[0;34m\u001b[0m\u001b[0;34m\u001b[0m\u001b[0m\n\u001b[0m\u001b[1;32m    976\u001b[0m \u001b[0;34m\u001b[0m\u001b[0m\n\u001b[1;32m    977\u001b[0m     \u001b[0;34m@\u001b[0m\u001b[0mproperty\u001b[0m\u001b[0;34m\u001b[0m\u001b[0;34m\u001b[0m\u001b[0m\n",
      "\u001b[0;31mJSONDecodeError\u001b[0m: Expecting value: line 1 column 1 (char 0)"
     ]
    }
   ],
   "source": [
    "import requests\n",
    "from requests.structures import CaseInsensitiveDict\n",
    "headers = CaseInsensitiveDict()\n",
    "headers[\"User-Agent\"] = \"Mozilla/5.0 (X11; Linux x86_64) AppleWebKit/537.36 (KHTML, like Gecko) Chrome/50.0.2661.75 Safari/537.36\"\n",
    "headers[\"Accept\"] = \"application/json\"\n",
    "headers[\"Authorization\"] = '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'\n",
    "headers[\"Apikey\"] = 'l7e52d8f39e2024793991ee1acbd6b8c31'\n",
    "\n",
    "\n",
    "\n",
    "#url = 'https://api.bancopan.com.br/openapi/consignado/v0/tokens'\n",
    "url = 'https://sandbox.bancopan.com.br/openapi/consignado/v2/emprestimos/simulacao/fgts'\n",
    "params = {\n",
    "  \"cpf_cliente\": \"152.662.217-39\",\n",
    "  \"codigo_promotora\": \"007504\",\n",
    "  \"incluir_seguro\": False,\n",
    "  #\"data_nascimento\": \"17-06-1995\"\n",
    "  \"data_nascimento\": \"1995-06-17\"\n",
    "}\n",
    "\n",
    "response = requests.post(url=url, headers=headers, json=params)\n",
    "print(response)\n",
    "response_data = response.json()\n",
    "print(response_data)"
   ]
  },
  {
   "cell_type": "code",
   "execution_count": 15,
   "id": "68431afe",
   "metadata": {},
   "outputs": [
    {
     "name": "stdout",
     "output_type": "stream",
     "text": [
      "bDdlNTJkOGYzOWUyMDI0NzkzOTkxZWUxYWNiZDZiOGMzMTo1MTQ1ZTM5MTRjOTU0ZWVlOWIwOThlNmNhY2FhOTQ4OA==\n"
     ]
    }
   ],
   "source": [
    "cpf: \n",
    "data: 17/06/1995 "
   ]
  },
  {
   "cell_type": "code",
   "execution_count": 18,
   "id": "960edf03",
   "metadata": {},
   "outputs": [
    {
     "name": "stdout",
     "output_type": "stream",
     "text": [
      "MDU0MTk2Mzg6Q29uY3JlZDIwMjMq\n"
     ]
    }
   ],
   "source": []
  },
  {
   "cell_type": "code",
   "execution_count": 9,
   "id": "86fc374e",
   "metadata": {},
   "outputs": [
    {
     "name": "stdout",
     "output_type": "stream",
     "text": [
      "bDdlNTJkOGYzOWUyMDI0NzkzOTkxZWUxYWNiZDZiOGMzMTo1MTQ1ZTM5MTRjOTU0ZWVlOWIwOThlNmNhY2FhOTQ4OA==\n"
     ]
    }
   ],
   "source": [
    "import base64\n",
    "userpass = \"l7e52d8f39e2024793991ee1acbd6b8c31:5145e3914c954eee9b098e6cacaa9488\"\n",
    "encoded_u = base64.b64encode(userpass.encode()).decode()\n",
    "print(encoded_u)"
   ]
  },
  {
   "cell_type": "code",
   "execution_count": null,
   "id": "aadad2a6",
   "metadata": {},
   "outputs": [],
   "source": [
    "import base64\n",
    "userpass = 'l7e52d8f39e2024793991ee1acbd6b8c31' + ':' + '5145e3914c954eee9b098e6cacaa9488'\n",
    "encoded_u = base64.b64encode(userpass.encode()).decode()\n",
    "print(encoded_u)"
   ]
  },
  {
   "cell_type": "code",
   "execution_count": null,
   "id": "780ef81f",
   "metadata": {},
   "outputs": [],
   "source": [
    "import base64\n",
    "userpass = '05419638' + ':' + 'Concred2023*'\n",
    "encoded_u = base64.b64encode(userpass.encode()).decode()\n",
    "print(encoded_u)"
   ]
  },
  {
   "cell_type": "code",
   "execution_count": null,
   "id": "49338966",
   "metadata": {},
   "outputs": [],
   "source": [
    "### pyautogui\n",
    "\n",
    "import time\n",
    "import pyautogui\n",
    "while True:\n",
    "    pyautogui.moveTo(100, 150)\n",
    "    time.sleep(1200)\n",
    "    pyautogui.moveTo(50, 100)\n"
   ]
  }
 ],
 "metadata": {
  "kernelspec": {
   "display_name": "Python 3 (ipykernel)",
   "language": "python",
   "name": "python3"
  },
  "language_info": {
   "codemirror_mode": {
    "name": "ipython",
    "version": 3
   },
   "file_extension": ".py",
   "mimetype": "text/x-python",
   "name": "python",
   "nbconvert_exporter": "python",
   "pygments_lexer": "ipython3",
   "version": "3.9.12"
  }
 },
 "nbformat": 4,
 "nbformat_minor": 5
}
